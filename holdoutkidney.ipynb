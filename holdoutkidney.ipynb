{
  "nbformat": 4,
  "nbformat_minor": 0,
  "metadata": {
    "colab": {
      "provenance": []
    },
    "kernelspec": {
      "name": "python3",
      "display_name": "Python 3"
    },
    "language_info": {
      "name": "python"
    }
  },
  "cells": [
    {
      "cell_type": "code",
      "execution_count": null,
      "metadata": {
        "id": "RgI4dVSAS63J"
      },
      "outputs": [],
      "source": [
        "import pandas as pd\n",
        "from sklearn.model_selection import train_test_split\n",
        "from sklearn.ensemble import RandomForestClassifier\n",
        "from sklearn.tree import DecisionTreeClassifier\n",
        "from sklearn.neighbors import KNeighborsClassifier\n",
        "from sklearn.metrics import accuracy_score, precision_score, recall_score, confusion_matrix\n",
        "from sklearn.metrics import make_scorer\n",
        "import matplotlib.pyplot as plt\n",
        "import time\n",
        "\n",
        "\n"
      ]
    },
    {
      "cell_type": "code",
      "source": [
        "data = pd.read_excel('/content/chronic_kidney_disease.xlsx')\n",
        "\n",
        "X = data[['age', 'bp', 'sg', 'al', 'su', 'rbc', 'pc', 'pcc', 'ba', 'bgr', 'bu', 'sc', 'sod', 'pot', 'hemo', 'pcv', 'wbcc', 'rbcc', 'htn', 'dm', 'cad', 'appet', 'pe', 'ane']]\n",
        "y = data['class']"
      ],
      "metadata": {
        "colab": {
          "base_uri": "https://localhost:8080/"
        },
        "id": "AZoKLl-4Ug-n",
        "outputId": "14cf89dd-15e2-4254-d459-bb7b9ed044d9"
      },
      "execution_count": null,
      "outputs": [
        {
          "output_type": "stream",
          "name": "stderr",
          "text": [
            "/usr/local/lib/python3.10/dist-packages/openpyxl/worksheet/header_footer.py:48: UserWarning: Cannot parse header or footer so it will be ignored\n",
            "  warn(\"\"\"Cannot parse header or footer so it will be ignored\"\"\")\n"
          ]
        }
      ]
    },
    {
      "cell_type": "code",
      "source": [
        "X_train, X_test, y_train, y_test = train_test_split(X, y, test_size=0.2, random_state=42)\n",
        "\n",
        "conf_matrix = confusion_matrix(y_test, rf_predictions)\n",
        "tn, fp, fn, tp = conf_matrix.ravel()\n",
        "specificity = tn / (tn + fp)"
      ],
      "metadata": {
        "id": "iqP95pA7VE47"
      },
      "execution_count": null,
      "outputs": []
    },
    {
      "cell_type": "code",
      "source": [
        "classifiers = ['Random Forest', 'Decision Tree', 'KNN']\n",
        "accuracy_scores = []\n",
        "sensitivity_scores = []\n",
        "specificity_scores = []\n",
        "precision_scores = []\n",
        "elapsed_times = []\n",
        "\n",
        "# Random Forest\n",
        "start_time = time.time()\n",
        "rf_classifier = RandomForestClassifier(n_estimators=100, random_state=42)\n",
        "rf_classifier.fit(X_train, y_train)\n",
        "rf_predictions = rf_classifier.predict(X_test)\n",
        "elapsed_time_rf = time.time() - start_time\n",
        "\n",
        "rf_accuracy = accuracy_score(y_test, rf_predictions)\n",
        "rf_recall = recall_score(y_test, rf_predictions, average='weighted')\n",
        "rf_precision = precision_score(y_test, rf_predictions, average='weighted')\n",
        "rf_conf_matrix = confusion_matrix(y_test, rf_predictions)\n",
        "\n",
        "accuracy_scores.append(rf_accuracy)\n",
        "sensitivity_scores.append(rf_recall)\n",
        "specificity_scores.append(rf_specificity)\n",
        "precision_scores.append(rf_precision)\n",
        "elapsed_times.append(elapsed_time_rf)\n",
        "\n",
        "print(\"Random Forest Accuracy:\", rf_accuracy)\n",
        "print(\"Random Forest Sensitivity:\", rf_recall)\n",
        "print(\"Random Forest Specificity:\", rf_specificity)\n",
        "print(\"Random Forest Precision:\", rf_precision)\n",
        "print(\"Random Forest Elapsed Time:\", elapsed_time_rf)\n",
        "print(\"Random Forest Confusion Matrix:\")\n",
        "print(rf_conf_matrix)\n",
        "\n",
        "# Decision Tree\n",
        "start_time = time.time()\n",
        "dt_classifier = DecisionTreeClassifier(random_state=42)\n",
        "dt_classifier.fit(X_train, y_train)\n",
        "dt_predictions = dt_classifier.predict(X_test)\n",
        "elapsed_time_dt = time.time() - start_time\n",
        "\n",
        "dt_accuracy = accuracy_score(y_test, dt_predictions)\n",
        "dt_recall = recall_score(y_test, dt_predictions, average='weighted')\n",
        "dt_precision = precision_score(y_test, dt_predictions, average='weighted')\n",
        "dt_conf_matrix = confusion_matrix(y_test, dt_predictions)\n",
        "\n",
        "accuracy_scores.append(dt_accuracy)\n",
        "sensitivity_scores.append(dt_recall)\n",
        "specificity_scores.append(rf_specificity)\n",
        "precision_scores.append(dt_precision)\n",
        "elapsed_times.append(elapsed_time_dt)\n",
        "\n",
        "print(\"Decision Tree Accuracy:\", dt_accuracy)\n",
        "print(\"Decision Tree Sensitivity:\", dt_recall)\n",
        "print(\"Decision Tree Specificity:\", rf_specificity)\n",
        "print(\"Decision Tree Precision:\", dt_precision)\n",
        "print(\"Decision Tree Elapsed Time:\", elapsed_time_dt)\n",
        "print(\"Decision Tree Confusion Matrix:\")\n",
        "print(dt_conf_matrix)\n",
        "\n",
        "# KNN\n",
        "start_time = time.time()\n",
        "knn_classifier = KNeighborsClassifier(n_neighbors=3)\n",
        "knn_classifier.fit(X_train, y_train)\n",
        "knn_predictions = knn_classifier.predict(X_test)\n",
        "elapsed_time_knn = time.time() - start_time\n",
        "\n",
        "knn_accuracy = accuracy_score(y_test, knn_predictions)\n",
        "knn_recall = recall_score(y_test, knn_predictions, average='weighted')\n",
        "knn_precision = precision_score(y_test, knn_predictions, average='weighted')\n",
        "knn_conf_matrix = confusion_matrix(y_test, knn_predictions)\n",
        "\n",
        "accuracy_scores.append(knn_accuracy)\n",
        "sensitivity_scores.append(knn_recall)\n",
        "specificity_scores.append(rf_specificity)\n",
        "precision_scores.append(knn_precision)\n",
        "elapsed_times.append(elapsed_time_knn)\n",
        "\n",
        "print(\"KNN Accuracy:\", knn_accuracy)\n",
        "print(\"KNN Sensitivity:\", knn_recall)\n",
        "print(\"KNN Specificity:\", rf_specificity)\n",
        "print(\"KNN Precision:\", knn_precision)\n",
        "print(\"KNN Elapsed Time:\", elapsed_time_knn)\n",
        "print(\"KNN Confusion Matrix:\")\n",
        "print(knn_conf_matrix)\n",
        "\n",
        "# Graph\n",
        "x = range(len(classifiers))\n",
        "\n",
        "plt.figure(figsize=(12, 8))\n",
        "\n",
        "plt.bar(x, accuracy_scores, width=0.15, label='Accuracy', align='center')\n",
        "plt.bar(x, sensitivity_scores, width=0.15, label='Sensitivity', align='edge')\n",
        "plt.bar(x, specificity_scores, width=0.15, label='Specificity', align='edge')\n",
        "plt.bar(x, precision_scores, width=0.15, label='Precision', align='edge')\n",
        "plt.bar(x, elapsed_times, width=0.15, label='Elapsed Time', align='edge')\n",
        "\n",
        "plt.xlabel('Classifiers')\n",
        "plt.ylabel('Scores')\n",
        "plt.xticks(x, classifiers)\n",
        "plt.legend()\n",
        "plt.title('Evaluation Metrics for Classifiers')\n",
        "plt.show()\n",
        "\n",
        "\n"
      ],
      "metadata": {
        "colab": {
          "base_uri": "https://localhost:8080/",
          "height": 1000
        },
        "id": "DhfgimsEVPD2",
        "outputId": "5bf9346d-e01f-46a1-f8e3-9a2464e4d79d"
      },
      "execution_count": null,
      "outputs": [
        {
          "output_type": "stream",
          "name": "stdout",
          "text": [
            "Random Forest Accuracy: 1.0\n",
            "Random Forest Sensitivity: 1.0\n",
            "Random Forest Specificity: 1.0\n",
            "Random Forest Precision: 1.0\n",
            "Random Forest Elapsed Time: 0.15830492973327637\n",
            "Random Forest Confusion Matrix:\n",
            "[[23  0]\n",
            " [ 0  9]]\n",
            "Decision Tree Accuracy: 0.96875\n",
            "Decision Tree Sensitivity: 0.96875\n",
            "Decision Tree Specificity: 1.0\n",
            "Decision Tree Precision: 0.9700520833333334\n",
            "Decision Tree Elapsed Time: 0.007000923156738281\n",
            "Decision Tree Confusion Matrix:\n",
            "[[23  0]\n",
            " [ 1  8]]\n",
            "KNN Accuracy: 0.8125\n",
            "KNN Sensitivity: 0.8125\n",
            "KNN Specificity: 1.0\n",
            "KNN Precision: 0.8106481481481481\n",
            "KNN Elapsed Time: 0.08490371704101562\n",
            "KNN Confusion Matrix:\n",
            "[[22  1]\n",
            " [ 5  4]]\n"
          ]
        },
        {
          "output_type": "display_data",
          "data": {
            "text/plain": [
              "<Figure size 1200x800 with 1 Axes>"
            ],
            "image/png": "[encoded data removed]"
          },
          "metadata": {}
        }
      ]
    }
  ]
}