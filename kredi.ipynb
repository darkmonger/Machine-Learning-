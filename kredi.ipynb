{
  "nbformat": 4,
  "nbformat_minor": 0,
  "metadata": {
    "colab": {
      "provenance": []
    },
    "kernelspec": {
      "name": "python3",
      "display_name": "Python 3"
    },
    "language_info": {
      "name": "python"
    }
  },
  "cells": [
    {
      "cell_type": "code",
      "execution_count": null,
      "metadata": {
        "id": "9vDm56TY7lbH"
      },
      "outputs": [],
      "source": [
        "import pandas as pd\n",
        "from sklearn.model_selection import train_test_split\n",
        "from sklearn.preprocessing import StandardScaler\n",
        "from sklearn.neighbors import KNeighborsClassifier\n",
        "from sklearn.ensemble import RandomForestClassifier\n",
        "from sklearn.tree import DecisionTreeClassifier\n",
        "from sklearn.metrics import accuracy_score, precision_score, recall_score, confusion_matrix\n",
        "from sklearn.impute import SimpleImputer\n",
        "from sklearn.utils import shuffle\n",
        "import time\n",
        "import numpy as np\n",
        "\n",
        "from sklearn.preprocessing import LabelEncoder\n"
      ]
    },
    {
      "cell_type": "code",
      "source": [
        "info_data = pd.read_csv(\"/content/Credit_card.csv\")\n",
        "\n",
        "approval_data = pd.read_csv('/content/Credit_card_label.csv')\n",
        "\n",
        "merged_data = pd.merge(info_data, approval_data, left_on='Ind_ID', right_on='ind_ID', how='inner')\n",
        "\n",
        "selected_features = merged_data[['Annual_income', 'Car_Owner', 'Propert_Owner']]\n",
        "labels = merged_data['label']\n",
        "\n",
        "\n",
        "# Split data into features (X) and labels (y)\n",
        "X = selected_features\n",
        "merged_data['label'] = 1 - merged_data['label']\n",
        "y = merged_data['label']\n",
        "\n",
        "merged_data = shuffle(merged_data, random_state=42)\n",
        "\n",
        "# Split the data into training and testing sets\n",
        "X_train, X_test, y_train, y_test = train_test_split(X, y, test_size=0.2, random_state=42)\n",
        "\n",
        "# Convert categorical columns to numerical using label encoding\n",
        "label_encoder = LabelEncoder()\n",
        "X_train['Car_Owner'] = label_encoder.fit_transform(X_train['Car_Owner'])\n",
        "X_train['Propert_Owner'] = label_encoder.fit_transform(X_train['Propert_Owner'])\n",
        "X_test['Car_Owner'] = label_encoder.transform(X_test['Car_Owner'])\n",
        "X_test['Propert_Owner'] = label_encoder.transform(X_test['Propert_Owner'])\n",
        "\n",
        "# Standardize features\n",
        "scaler = StandardScaler()\n",
        "X_train_scaled = scaler.fit_transform(X_train)\n",
        "X_test_scaled = scaler.transform(X_test)\n",
        "\n",
        "\n"
      ],
      "metadata": {
        "id": "n5YjndJrAa5l"
      },
      "execution_count": null,
      "outputs": []
    },
    {
      "cell_type": "code",
      "source": [
        "\n",
        "\n",
        "imputer = SimpleImputer(strategy='mean')\n",
        "X_train_scaled = imputer.fit_transform(X_train_scaled)\n",
        "X_test_scaled = imputer.transform(X_test_scaled)\n",
        "\n",
        "# Remove NaN values from the target variable y_train\n",
        "nan_indices_train = np.isnan(y_train)\n",
        "X_train_scaled = X_train_scaled[~nan_indices_train]\n",
        "y_train = y_train[~nan_indices_train]\n",
        "\n",
        "# Remove NaN values from the target variable y_test\n",
        "nan_indices_test = np.isnan(y_test)\n",
        "X_test_scaled = X_test_scaled[~nan_indices_test]\n",
        "y_test = y_test[~nan_indices_test]\n",
        "\n"
      ],
      "metadata": {
        "id": "mLpRJv_iDNXk"
      },
      "execution_count": null,
      "outputs": []
    },
    {
      "cell_type": "code",
      "source": [
        "# Function to train and evaluate a model\n",
        "def train_evaluate_model(model, X_train_scaled, y_train, X_test_scaled, y_test):\n",
        "    start_time = time.time()\n",
        "    model.fit(X_train_scaled, y_train)\n",
        "    elapsed_time = time.time() - start_time\n",
        "\n",
        "    # Make predictions\n",
        "    y_pred = model.predict(X_test_scaled)\n",
        "\n",
        "    # Calculate evaluation metrics\n",
        "    accuracy = accuracy_score(y_test, y_pred)\n",
        "    precision = precision_score(y_test, y_pred)\n",
        "    recall = recall_score(y_test, y_pred)\n",
        "    confusion = confusion_matrix(y_test, y_pred)\n",
        "\n",
        "    return accuracy, precision, recall, confusion, elapsed_time\n",
        "\n",
        "# Initialize models\n",
        "knn_model = KNeighborsClassifier(n_neighbors=5)\n",
        "rf_model = RandomForestClassifier(n_estimators=100, random_state=42)\n",
        "dt_model = DecisionTreeClassifier(random_state=42)\n",
        "\n",
        "# Train and evaluate KNN model\n",
        "knn_accuracy, knn_precision, knn_recall, knn_confusion, knn_time = train_evaluate_model(knn_model, X_train_scaled, y_train, X_test_scaled, y_test)\n",
        "\n",
        "# Train and evaluate Random Forest model\n",
        "rf_accuracy, rf_precision, rf_recall, rf_confusion, rf_time = train_evaluate_model(rf_model, X_train_scaled, y_train, X_test_scaled, y_test)\n",
        "\n",
        "# Train and evaluate Decision Tree model\n",
        "dt_accuracy, dt_precision, dt_recall, dt_confusion, dt_time = train_evaluate_model(dt_model, X_train_scaled, y_train, X_test_scaled, y_test)\n",
        "\n",
        "# Print the results\n",
        "print(\"KNN Accuracy:\", knn_accuracy)\n",
        "print(\"KNN Precision:\", knn_precision)\n",
        "print(\"KNN Recall:\", knn_recall)\n",
        "print(\"KNN Confusion Matrix:\", knn_confusion)\n",
        "print(\"KNN Elapsed Time:\", knn_time)\n",
        "\n",
        "print(\"Random Forest Accuracy:\", rf_accuracy)\n",
        "print(\"Random Forest Precision:\", rf_precision)\n",
        "print(\"Random Forest Recall:\", rf_recall)\n",
        "print(\"Random Forest Confusion Matrix:\", rf_confusion)\n",
        "print(\"Random Forest Elapsed Time:\", rf_time)\n",
        "\n",
        "print(\"Decision Tree Accuracy:\", dt_accuracy)\n",
        "print(\"Decision Tree Precision:\", dt_precision)\n",
        "print(\"Decision Tree Recall:\", dt_recall)\n",
        "print(\"Decision Tree Confusion Matrix:\", dt_confusion)\n",
        "print(\"Decision Tree Elapsed Time:\", dt_time)\n"
      ],
      "metadata": {
        "colab": {
          "base_uri": "https://localhost:8080/"
        },
        "id": "rBWN0aSUJ5pB",
        "outputId": "15eec32b-4153-400d-8253-76c104dda8ed"
      },
      "execution_count": null,
      "outputs": [
        {
          "output_type": "stream",
          "name": "stdout",
          "text": [
            "KNN Accuracy: 1.0\n",
            "KNN Precision: 0.0\n",
            "KNN Recall: 0.0\n",
            "KNN Confusion Matrix: [[30]]\n",
            "KNN Elapsed Time: 0.0014510154724121094\n",
            "Random Forest Accuracy: 1.0\n",
            "Random Forest Precision: 0.0\n",
            "Random Forest Recall: 0.0\n",
            "Random Forest Confusion Matrix: [[30]]\n",
            "Random Forest Elapsed Time: 0.13671040534973145\n",
            "Decision Tree Accuracy: 1.0\n",
            "Decision Tree Precision: 0.0\n",
            "Decision Tree Recall: 0.0\n",
            "Decision Tree Confusion Matrix: [[30]]\n",
            "Decision Tree Elapsed Time: 0.0009343624114990234\n"
          ]
        },
        {
          "output_type": "stream",
          "name": "stderr",
          "text": [
            "/usr/local/lib/python3.10/dist-packages/sklearn/metrics/_classification.py:1344: UndefinedMetricWarning: Precision is ill-defined and being set to 0.0 due to no predicted samples. Use `zero_division` parameter to control this behavior.\n",
            "  _warn_prf(average, modifier, msg_start, len(result))\n",
            "/usr/local/lib/python3.10/dist-packages/sklearn/metrics/_classification.py:1344: UndefinedMetricWarning: Recall is ill-defined and being set to 0.0 due to no true samples. Use `zero_division` parameter to control this behavior.\n",
            "  _warn_prf(average, modifier, msg_start, len(result))\n",
            "/usr/local/lib/python3.10/dist-packages/sklearn/metrics/_classification.py:1344: UndefinedMetricWarning: Precision is ill-defined and being set to 0.0 due to no predicted samples. Use `zero_division` parameter to control this behavior.\n",
            "  _warn_prf(average, modifier, msg_start, len(result))\n",
            "/usr/local/lib/python3.10/dist-packages/sklearn/metrics/_classification.py:1344: UndefinedMetricWarning: Recall is ill-defined and being set to 0.0 due to no true samples. Use `zero_division` parameter to control this behavior.\n",
            "  _warn_prf(average, modifier, msg_start, len(result))\n",
            "/usr/local/lib/python3.10/dist-packages/sklearn/metrics/_classification.py:1344: UndefinedMetricWarning: Precision is ill-defined and being set to 0.0 due to no predicted samples. Use `zero_division` parameter to control this behavior.\n",
            "  _warn_prf(average, modifier, msg_start, len(result))\n",
            "/usr/local/lib/python3.10/dist-packages/sklearn/metrics/_classification.py:1344: UndefinedMetricWarning: Recall is ill-defined and being set to 0.0 due to no true samples. Use `zero_division` parameter to control this behavior.\n",
            "  _warn_prf(average, modifier, msg_start, len(result))\n"
          ]
        }
      ]
    }
  ]
}